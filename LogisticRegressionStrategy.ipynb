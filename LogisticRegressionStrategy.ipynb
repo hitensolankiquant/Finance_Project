{
 "cells": [
  {
   "cell_type": "code",
   "execution_count": 1,
   "metadata": {},
   "outputs": [],
   "source": [
    "# importing library\n",
    "import numpy as np\n",
    "from sklearn.linear_model import LogisticRegression\n",
    "from sklearn.metrics import confusion_matrix\n",
    "from sklearn.model_selection import train_test_split\n",
    "from sklearn.metrics import accuracy_score\n",
    "import datetime\n",
    "import pandas as pd\n",
    "import yfinance as yf"
   ]
  },
  {
   "cell_type": "markdown",
   "metadata": {},
   "source": [
    "**Logistic Regression :**\n",
    "    \n",
    "Logistic Regression solves classification problems as we use it for binary classification. Logistic regression estimates the probability of an event occurring based on a given dataset of independent variables for ex.stock will go up or down, vote or don't vote.\n",
    "\n",
    "In logistic regression, a logit transformation is applied on the odds- probability of sucess is divided by probability of failure.\n",
    "\n",
    " In Logistic regression we have to deal with **sigmoid-function** which can be represented as :\n",
    "\n",
    "**$$f(x) =\\frac{1}{1+ e^{-x}}$$**\n",
    "\n",
    "f(x) has value between [0,1]\n",
    "\n",
    "It can interpreted as probability.\n",
    "\n",
    "\n"
   ]
  },
  {
   "cell_type": "code",
   "execution_count": 2,
   "metadata": {},
   "outputs": [],
   "source": [
    "\n",
    "def download_data(stock,start,end):\n",
    "    data={}\n",
    "    ticker = yf.download(stock,start,end)\n",
    "    data[\"Close\"] = ticker[\"Adj Close\"]\n",
    "    return pd.DataFrame(data)\n",
    "\n",
    "def construct_features(data,lags=2):\n",
    "    #calculate the lagged adjusted closing prices(name=close)\n",
    "    for i in range(0,lags):\n",
    "        data[\"Lag%s\" % str(i+1)] = data[\"Close\"].shift(i+1)\n",
    "    #calculate the percent of actual changes\n",
    "    data[\"Today Change\"] = data[\"Close\"]\n",
    "    data[\"Today Change\"] = data[\"Today Change\"].pct_change() * 100\n",
    "    \n",
    "    # calculate the lags in percentage(normalization)\n",
    "    for i in range(0,lags):\n",
    "        data[\"Lag%s\" % str(i+1)] = data[\"Lag%s\" % str(i+1)].pct_change()*100\n",
    "    \n",
    "    # direction - the target variable\n",
    "    data[\"Direction\"] = np.where(data[\"Today Change\"] > 0 , 1 , -1)"
   ]
  },
  {
   "cell_type": "code",
   "execution_count": 3,
   "metadata": {},
   "outputs": [
    {
     "name": "stdout",
     "output_type": "stream",
     "text": [
      "[*********************100%***********************]  1 of 1 completed\n"
     ]
    }
   ],
   "source": [
    "start_date= datetime.datetime(2019,1,1)\n",
    "end_date = datetime.datetime(2020,1,1)\n",
    "\n",
    "stock_data = download_data(\"HDFCBANK.NS\",start_date,end_date)\n",
    "construct_features(stock_data)\n",
    "stock_data = stock_data.dropna()\n",
    "\n",
    "#features and the labels(target variables)\n",
    "\n",
    "X = stock_data[[\"Lag1\", \"Lag2\"]]\n",
    "y = stock_data[\"Direction\"]\n"
   ]
  },
  {
   "cell_type": "code",
   "execution_count": 4,
   "metadata": {},
   "outputs": [],
   "source": [
    "# split the data into training and test set(80%-20%)\n",
    "X_train,X_test,y_train,y_test = train_test_split(X,y,test_size=0.2)"
   ]
  },
  {
   "cell_type": "code",
   "execution_count": 5,
   "metadata": {},
   "outputs": [
    {
     "data": {
      "text/plain": [
       "LogisticRegression()"
      ]
     },
     "execution_count": 5,
     "metadata": {},
     "output_type": "execute_result"
    }
   ],
   "source": [
    "#fitting the model\n",
    "model = LogisticRegression()\n",
    "model.fit(X_train,y_train)"
   ]
  },
  {
   "cell_type": "code",
   "execution_count": 6,
   "metadata": {},
   "outputs": [],
   "source": [
    "predictions = model.predict(X_test)"
   ]
  },
  {
   "cell_type": "markdown",
   "metadata": {},
   "source": [
    "**Confusion Matrix**\n",
    "\n",
    "Confusion matrix is one of the easiest and most intuitive metrics used for finding the accuracy of a classification model,where the output can be of two or more categories.\n",
    "\n",
    "**Diagonal elements: the correct classification**\n",
    "\n",
    "**of-diagonals: incorrect predictions**"
   ]
  },
  {
   "cell_type": "code",
   "execution_count": 7,
   "metadata": {},
   "outputs": [
    {
     "name": "stdout",
     "output_type": "stream",
     "text": [
      "Accuracy of the model: 0.54\n",
      "[[ 6  5]\n",
      " [17 20]]\n"
     ]
    }
   ],
   "source": [
    "print('Accuracy of the model: %.2f' % accuracy_score(y_test, predictions))\n",
    "print(confusion_matrix(predictions, y_test))\n"
   ]
  },
  {
   "cell_type": "markdown",
   "metadata": {},
   "source": [
    "**From the above output we can say that Our model has shown only 54% accuracy which means our predicted set and test set match 54% of total values of test set. This model is not suitable for HDFCBANK because this model only predicts 54% of correct values.**"
   ]
  },
  {
   "cell_type": "code",
   "execution_count": null,
   "metadata": {},
   "outputs": [],
   "source": []
  },
  {
   "cell_type": "code",
   "execution_count": null,
   "metadata": {},
   "outputs": [],
   "source": []
  }
 ],
 "metadata": {
  "kernelspec": {
   "display_name": "Python 3",
   "language": "python",
   "name": "python3"
  },
  "language_info": {
   "codemirror_mode": {
    "name": "ipython",
    "version": 3
   },
   "file_extension": ".py",
   "mimetype": "text/x-python",
   "name": "python",
   "nbconvert_exporter": "python",
   "pygments_lexer": "ipython3",
   "version": "3.8.5"
  }
 },
 "nbformat": 4,
 "nbformat_minor": 4
}

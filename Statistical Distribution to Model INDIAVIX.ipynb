{
 "cells": [
  {
   "cell_type": "markdown",
   "metadata": {},
   "source": [
    "**Statistical Distribution of India_VIX**"
   ]
  },
  {
   "cell_type": "code",
   "execution_count": 1,
   "metadata": {},
   "outputs": [],
   "source": [
    "import datetime\n",
    "import numpy as np\n",
    "import pandas as pd\n",
    "import pandas_datareader.data as web\n",
    "from nsepy import get_history\n",
    "import seaborn as sns\n",
    "import matplotlib.pyplot  as plt\n",
    "from scipy import stats"
   ]
  },
  {
   "cell_type": "markdown",
   "metadata": {},
   "source": [
    "## 1. How Are Stock Returns Distributed?\n",
    "Many models and theories surrounding stocks assume a normal distribution. We will try to determine that here with a data-based analysis. Properties of a Gaussian distribution are as follows:\n",
    "\n",
    "* Mean, median, and mode are all the same\n",
    "* The data is symmetrical, meaning there are equal counts of observations on both sides of the mean.\n",
    "* In normally distributed data, 68.25% of all cases fall within +/- one standard deviation from the mean, 95% of all cases fall within +/- two standard deviations from the mean, and 99.7% of all cases fall within +/- three standard deviations from the mean.\n",
    "\n",
    "Let's start by pulling 20 years of daily price data for the **IndiaVIX**. We'll use similar methods we've used in the last few lessons to pull this data and will calculate the log returns here.\n",
    "\n",
    "One quick way of doing this is to determine how many data points we have on either side of the mean here. We have a bit more than 5,000 data points. The below code takes the count of data points greater than the mean and divides it by the total number of data points. This will give us the percentage of data points greater than the mean."
   ]
  },
  {
   "cell_type": "code",
   "execution_count": 2,
   "metadata": {},
   "outputs": [
    {
     "data": {
      "text/plain": [
       "Date\n",
       "                  NaN\n",
       "2009-03-02    43.1700\n",
       "2009-03-03    43.8900\n",
       "2009-03-04    42.5200\n",
       "2009-03-05    41.4900\n",
       "               ...   \n",
       "2022-12-15    13.7325\n",
       "2022-12-16    14.0700\n",
       "2022-12-19    13.5525\n",
       "2022-12-20    13.7800\n",
       "2022-12-21    15.5625\n",
       "Name: Close, Length: 3460, dtype: float64"
      ]
     },
     "execution_count": 2,
     "metadata": {},
     "output_type": "execute_result"
    }
   ],
   "source": [
    "start = datetime.date.today() - datetime.timedelta(365*20)\n",
    "end = datetime.date.today()\n",
    "India_VIX = get_history(symbol=\"INDIAVIX\",start = start , end = end ,index = True)[\"Close\"]\n",
    "India_VIX\n"
   ]
  },
  {
   "cell_type": "code",
   "execution_count": 3,
   "metadata": {},
   "outputs": [
    {
     "data": {
      "text/html": [
       "<div>\n",
       "<style scoped>\n",
       "    .dataframe tbody tr th:only-of-type {\n",
       "        vertical-align: middle;\n",
       "    }\n",
       "\n",
       "    .dataframe tbody tr th {\n",
       "        vertical-align: top;\n",
       "    }\n",
       "\n",
       "    .dataframe thead th {\n",
       "        text-align: right;\n",
       "    }\n",
       "</style>\n",
       "<table border=\"1\" class=\"dataframe\">\n",
       "  <thead>\n",
       "    <tr style=\"text-align: right;\">\n",
       "      <th></th>\n",
       "      <th>Close</th>\n",
       "    </tr>\n",
       "    <tr>\n",
       "      <th>Date</th>\n",
       "      <th></th>\n",
       "    </tr>\n",
       "  </thead>\n",
       "  <tbody>\n",
       "    <tr>\n",
       "      <th></th>\n",
       "      <td>NaN</td>\n",
       "    </tr>\n",
       "    <tr>\n",
       "      <th>2009-03-02</th>\n",
       "      <td>43.1700</td>\n",
       "    </tr>\n",
       "    <tr>\n",
       "      <th>2009-03-03</th>\n",
       "      <td>43.8900</td>\n",
       "    </tr>\n",
       "    <tr>\n",
       "      <th>2009-03-04</th>\n",
       "      <td>42.5200</td>\n",
       "    </tr>\n",
       "    <tr>\n",
       "      <th>2009-03-05</th>\n",
       "      <td>41.4900</td>\n",
       "    </tr>\n",
       "    <tr>\n",
       "      <th>...</th>\n",
       "      <td>...</td>\n",
       "    </tr>\n",
       "    <tr>\n",
       "      <th>2022-12-15</th>\n",
       "      <td>13.7325</td>\n",
       "    </tr>\n",
       "    <tr>\n",
       "      <th>2022-12-16</th>\n",
       "      <td>14.0700</td>\n",
       "    </tr>\n",
       "    <tr>\n",
       "      <th>2022-12-19</th>\n",
       "      <td>13.5525</td>\n",
       "    </tr>\n",
       "    <tr>\n",
       "      <th>2022-12-20</th>\n",
       "      <td>13.7800</td>\n",
       "    </tr>\n",
       "    <tr>\n",
       "      <th>2022-12-21</th>\n",
       "      <td>15.5625</td>\n",
       "    </tr>\n",
       "  </tbody>\n",
       "</table>\n",
       "<p>3460 rows × 1 columns</p>\n",
       "</div>"
      ],
      "text/plain": [
       "              Close\n",
       "Date               \n",
       "                NaN\n",
       "2009-03-02  43.1700\n",
       "2009-03-03  43.8900\n",
       "2009-03-04  42.5200\n",
       "2009-03-05  41.4900\n",
       "...             ...\n",
       "2022-12-15  13.7325\n",
       "2022-12-16  14.0700\n",
       "2022-12-19  13.5525\n",
       "2022-12-20  13.7800\n",
       "2022-12-21  15.5625\n",
       "\n",
       "[3460 rows x 1 columns]"
      ]
     },
     "execution_count": 3,
     "metadata": {},
     "output_type": "execute_result"
    }
   ],
   "source": [
    "df = pd.DataFrame(India_VIX,columns=[\"Close\"])\n",
    "df"
   ]
  },
  {
   "cell_type": "code",
   "execution_count": 4,
   "metadata": {},
   "outputs": [
    {
     "data": {
      "text/plain": [
       "pandas.core.series.Series"
      ]
     },
     "execution_count": 4,
     "metadata": {},
     "output_type": "execute_result"
    }
   ],
   "source": [
    "type(India_VIX)"
   ]
  },
  {
   "cell_type": "code",
   "execution_count": 5,
   "metadata": {},
   "outputs": [
    {
     "data": {
      "text/plain": [
       "<AxesSubplot:xlabel='Date'>"
      ]
     },
     "execution_count": 5,
     "metadata": {},
     "output_type": "execute_result"
    },
    {
     "data": {
      "image/png": "[encoded data removed]",
      "text/plain": [
       "<Figure size 432x288 with 1 Axes>"
      ]
     },
     "metadata": {
      "needs_background": "light"
     },
     "output_type": "display_data"
    }
   ],
   "source": [
    "df.plot()"
   ]
  },
  {
   "cell_type": "code",
   "execution_count": 6,
   "metadata": {},
   "outputs": [
    {
     "data": {
      "text/plain": [
       "Close    83.6075\n",
       "dtype: float64"
      ]
     },
     "execution_count": 6,
     "metadata": {},
     "output_type": "execute_result"
    }
   ],
   "source": [
    "df.max()"
   ]
  },
  {
   "cell_type": "code",
   "execution_count": 29,
   "metadata": {},
   "outputs": [
    {
     "data": {
      "text/html": [
       "<div>\n",
       "<style scoped>\n",
       "    .dataframe tbody tr th:only-of-type {\n",
       "        vertical-align: middle;\n",
       "    }\n",
       "\n",
       "    .dataframe tbody tr th {\n",
       "        vertical-align: top;\n",
       "    }\n",
       "\n",
       "    .dataframe thead th {\n",
       "        text-align: right;\n",
       "    }\n",
       "</style>\n",
       "<table border=\"1\" class=\"dataframe\">\n",
       "  <thead>\n",
       "    <tr style=\"text-align: right;\">\n",
       "      <th></th>\n",
       "      <th>Close</th>\n",
       "      <th>Log Price</th>\n",
       "      <th>vols</th>\n",
       "      <th>Date</th>\n",
       "      <th>Log_Price</th>\n",
       "    </tr>\n",
       "    <tr>\n",
       "      <th>Date</th>\n",
       "      <th></th>\n",
       "      <th></th>\n",
       "      <th></th>\n",
       "      <th></th>\n",
       "      <th></th>\n",
       "    </tr>\n",
       "  </thead>\n",
       "  <tbody>\n",
       "    <tr>\n",
       "      <th>2009-05-21</th>\n",
       "      <td>43.3100</td>\n",
       "      <td>-0.133791</td>\n",
       "      <td>6.390395</td>\n",
       "      <td>2009-05-21</td>\n",
       "      <td>-0.133791</td>\n",
       "    </tr>\n",
       "    <tr>\n",
       "      <th>2009-05-22</th>\n",
       "      <td>41.9700</td>\n",
       "      <td>-0.031428</td>\n",
       "      <td>6.403770</td>\n",
       "      <td>2009-05-22</td>\n",
       "      <td>-0.031428</td>\n",
       "    </tr>\n",
       "    <tr>\n",
       "      <th>2009-05-25</th>\n",
       "      <td>39.3800</td>\n",
       "      <td>-0.063697</td>\n",
       "      <td>6.444796</td>\n",
       "      <td>2009-05-25</td>\n",
       "      <td>-0.063697</td>\n",
       "    </tr>\n",
       "    <tr>\n",
       "      <th>2009-05-26</th>\n",
       "      <td>43.8700</td>\n",
       "      <td>0.107973</td>\n",
       "      <td>6.426869</td>\n",
       "      <td>2009-05-26</td>\n",
       "      <td>0.107973</td>\n",
       "    </tr>\n",
       "    <tr>\n",
       "      <th>2009-05-27</th>\n",
       "      <td>39.7400</td>\n",
       "      <td>-0.098872</td>\n",
       "      <td>6.395964</td>\n",
       "      <td>2009-05-27</td>\n",
       "      <td>-0.098872</td>\n",
       "    </tr>\n",
       "    <tr>\n",
       "      <th>...</th>\n",
       "      <td>...</td>\n",
       "      <td>...</td>\n",
       "      <td>...</td>\n",
       "      <td>...</td>\n",
       "      <td>...</td>\n",
       "    </tr>\n",
       "    <tr>\n",
       "      <th>2022-12-15</th>\n",
       "      <td>13.7325</td>\n",
       "      <td>0.063701</td>\n",
       "      <td>2.423723</td>\n",
       "      <td>2022-12-15</td>\n",
       "      <td>0.063701</td>\n",
       "    </tr>\n",
       "    <tr>\n",
       "      <th>2022-12-16</th>\n",
       "      <td>14.0700</td>\n",
       "      <td>0.024280</td>\n",
       "      <td>2.363679</td>\n",
       "      <td>2022-12-16</td>\n",
       "      <td>0.024280</td>\n",
       "    </tr>\n",
       "    <tr>\n",
       "      <th>2022-12-19</th>\n",
       "      <td>13.5525</td>\n",
       "      <td>-0.037474</td>\n",
       "      <td>2.241017</td>\n",
       "      <td>2022-12-19</td>\n",
       "      <td>-0.037474</td>\n",
       "    </tr>\n",
       "    <tr>\n",
       "      <th>2022-12-20</th>\n",
       "      <td>13.7800</td>\n",
       "      <td>0.016647</td>\n",
       "      <td>2.180970</td>\n",
       "      <td>2022-12-20</td>\n",
       "      <td>0.016647</td>\n",
       "    </tr>\n",
       "    <tr>\n",
       "      <th>2022-12-21</th>\n",
       "      <td>15.5625</td>\n",
       "      <td>0.121646</td>\n",
       "      <td>2.110202</td>\n",
       "      <td>2022-12-21</td>\n",
       "      <td>0.121646</td>\n",
       "    </tr>\n",
       "  </tbody>\n",
       "</table>\n",
       "<p>1509 rows × 5 columns</p>\n",
       "</div>"
      ],
      "text/plain": [
       "              Close  Log Price      vols        Date  Log_Price\n",
       "Date                                                           \n",
       "2009-05-21  43.3100  -0.133791  6.390395  2009-05-21  -0.133791\n",
       "2009-05-22  41.9700  -0.031428  6.403770  2009-05-22  -0.031428\n",
       "2009-05-25  39.3800  -0.063697  6.444796  2009-05-25  -0.063697\n",
       "2009-05-26  43.8700   0.107973  6.426869  2009-05-26   0.107973\n",
       "2009-05-27  39.7400  -0.098872  6.395964  2009-05-27  -0.098872\n",
       "...             ...        ...       ...         ...        ...\n",
       "2022-12-15  13.7325   0.063701  2.423723  2022-12-15   0.063701\n",
       "2022-12-16  14.0700   0.024280  2.363679  2022-12-16   0.024280\n",
       "2022-12-19  13.5525  -0.037474  2.241017  2022-12-19  -0.037474\n",
       "2022-12-20  13.7800   0.016647  2.180970  2022-12-20   0.016647\n",
       "2022-12-21  15.5625   0.121646  2.110202  2022-12-21   0.121646\n",
       "\n",
       "[1509 rows x 5 columns]"
      ]
     },
     "execution_count": 29,
     "metadata": {},
     "output_type": "execute_result"
    }
   ],
   "source": [
    "df[\"Log_Price\"] = np.log(df[\"Close\"]) - np.log(df[\"Close\"].shift(1))\n",
    "df.dropna()"
   ]
  },
  {
   "cell_type": "code",
   "execution_count": 30,
   "metadata": {},
   "outputs": [
    {
     "data": {
      "text/plain": [
       "0.39867549668874175"
      ]
     },
     "execution_count": 30,
     "metadata": {},
     "output_type": "execute_result"
    }
   ],
   "source": [
    "(len(df[df[\"Close\"] > df[\"Close\"].mean()])) / (len(df))"
   ]
  },
  {
   "cell_type": "markdown",
   "metadata": {},
   "source": [
    "**Volatility Constant**"
   ]
  },
  {
   "cell_type": "code",
   "execution_count": 31,
   "metadata": {},
   "outputs": [],
   "source": [
    "df[\"vols\"] = pd.DataFrame(df[\"Close\"].rolling(50).std())\n"
   ]
  },
  {
   "cell_type": "code",
   "execution_count": 32,
   "metadata": {},
   "outputs": [
    {
     "data": {
      "text/plain": [
       "<Figure size 864x360 with 0 Axes>"
      ]
     },
     "execution_count": 32,
     "metadata": {},
     "output_type": "execute_result"
    },
    {
     "data": {
      "text/plain": [
       "<Figure size 864x360 with 0 Axes>"
      ]
     },
     "metadata": {},
     "output_type": "display_data"
    }
   ],
   "source": [
    "plt.figure(figsize=(12,5))\n"
   ]
  },
  {
   "cell_type": "code",
   "execution_count": 33,
   "metadata": {},
   "outputs": [],
   "source": [
    "from datetime import datetime as dt"
   ]
  },
  {
   "cell_type": "code",
   "execution_count": 34,
   "metadata": {},
   "outputs": [
    {
     "data": {
      "text/plain": [
       "pandas.core.series.Series"
      ]
     },
     "execution_count": 34,
     "metadata": {},
     "output_type": "execute_result"
    }
   ],
   "source": [
    "df[\"Date\"] = df.index\n",
    "type(df[\"Date\"])"
   ]
  },
  {
   "cell_type": "code",
   "execution_count": 35,
   "metadata": {},
   "outputs": [
    {
     "data": {
      "text/html": [
       "<div>\n",
       "<style scoped>\n",
       "    .dataframe tbody tr th:only-of-type {\n",
       "        vertical-align: middle;\n",
       "    }\n",
       "\n",
       "    .dataframe tbody tr th {\n",
       "        vertical-align: top;\n",
       "    }\n",
       "\n",
       "    .dataframe thead th {\n",
       "        text-align: right;\n",
       "    }\n",
       "</style>\n",
       "<table border=\"1\" class=\"dataframe\">\n",
       "  <thead>\n",
       "    <tr style=\"text-align: right;\">\n",
       "      <th></th>\n",
       "      <th>Close</th>\n",
       "      <th>Log Price</th>\n",
       "      <th>vols</th>\n",
       "      <th>Date</th>\n",
       "      <th>Log_Price</th>\n",
       "    </tr>\n",
       "    <tr>\n",
       "      <th>Date</th>\n",
       "      <th></th>\n",
       "      <th></th>\n",
       "      <th></th>\n",
       "      <th></th>\n",
       "      <th></th>\n",
       "    </tr>\n",
       "  </thead>\n",
       "  <tbody>\n",
       "    <tr>\n",
       "      <th>2009-10-08</th>\n",
       "      <td>29.9000</td>\n",
       "      <td>-0.020851</td>\n",
       "      <td>5.940123</td>\n",
       "      <td>2009-10-08</td>\n",
       "      <td>-0.020851</td>\n",
       "    </tr>\n",
       "    <tr>\n",
       "      <th>2009-10-09</th>\n",
       "      <td>30.2400</td>\n",
       "      <td>0.011307</td>\n",
       "      <td>5.540657</td>\n",
       "      <td>2009-10-09</td>\n",
       "      <td>0.011307</td>\n",
       "    </tr>\n",
       "    <tr>\n",
       "      <th>2009-10-12</th>\n",
       "      <td>28.1000</td>\n",
       "      <td>-0.073396</td>\n",
       "      <td>5.427127</td>\n",
       "      <td>2009-10-12</td>\n",
       "      <td>-0.073396</td>\n",
       "    </tr>\n",
       "    <tr>\n",
       "      <th>2009-10-14</th>\n",
       "      <td>26.3700</td>\n",
       "      <td>-0.063543</td>\n",
       "      <td>5.381247</td>\n",
       "      <td>2009-10-14</td>\n",
       "      <td>-0.063543</td>\n",
       "    </tr>\n",
       "    <tr>\n",
       "      <th>2009-10-15</th>\n",
       "      <td>26.6400</td>\n",
       "      <td>0.010187</td>\n",
       "      <td>5.385970</td>\n",
       "      <td>2009-10-15</td>\n",
       "      <td>0.010187</td>\n",
       "    </tr>\n",
       "    <tr>\n",
       "      <th>...</th>\n",
       "      <td>...</td>\n",
       "      <td>...</td>\n",
       "      <td>...</td>\n",
       "      <td>...</td>\n",
       "      <td>...</td>\n",
       "    </tr>\n",
       "    <tr>\n",
       "      <th>2022-12-15</th>\n",
       "      <td>13.7325</td>\n",
       "      <td>0.063701</td>\n",
       "      <td>2.156429</td>\n",
       "      <td>2022-12-15</td>\n",
       "      <td>0.063701</td>\n",
       "    </tr>\n",
       "    <tr>\n",
       "      <th>2022-12-16</th>\n",
       "      <td>14.0700</td>\n",
       "      <td>0.024280</td>\n",
       "      <td>2.206076</td>\n",
       "      <td>2022-12-16</td>\n",
       "      <td>0.024280</td>\n",
       "    </tr>\n",
       "    <tr>\n",
       "      <th>2022-12-19</th>\n",
       "      <td>13.5525</td>\n",
       "      <td>-0.037474</td>\n",
       "      <td>2.269627</td>\n",
       "      <td>2022-12-19</td>\n",
       "      <td>-0.037474</td>\n",
       "    </tr>\n",
       "    <tr>\n",
       "      <th>2022-12-20</th>\n",
       "      <td>13.7800</td>\n",
       "      <td>0.016647</td>\n",
       "      <td>2.321593</td>\n",
       "      <td>2022-12-20</td>\n",
       "      <td>0.016647</td>\n",
       "    </tr>\n",
       "    <tr>\n",
       "      <th>2022-12-21</th>\n",
       "      <td>15.5625</td>\n",
       "      <td>0.121646</td>\n",
       "      <td>2.332376</td>\n",
       "      <td>2022-12-21</td>\n",
       "      <td>0.121646</td>\n",
       "    </tr>\n",
       "  </tbody>\n",
       "</table>\n",
       "<p>1461 rows × 5 columns</p>\n",
       "</div>"
      ],
      "text/plain": [
       "              Close  Log Price      vols        Date  Log_Price\n",
       "Date                                                           \n",
       "2009-10-08  29.9000  -0.020851  5.940123  2009-10-08  -0.020851\n",
       "2009-10-09  30.2400   0.011307  5.540657  2009-10-09   0.011307\n",
       "2009-10-12  28.1000  -0.073396  5.427127  2009-10-12  -0.073396\n",
       "2009-10-14  26.3700  -0.063543  5.381247  2009-10-14  -0.063543\n",
       "2009-10-15  26.6400   0.010187  5.385970  2009-10-15   0.010187\n",
       "...             ...        ...       ...         ...        ...\n",
       "2022-12-15  13.7325   0.063701  2.156429  2022-12-15   0.063701\n",
       "2022-12-16  14.0700   0.024280  2.206076  2022-12-16   0.024280\n",
       "2022-12-19  13.5525  -0.037474  2.269627  2022-12-19  -0.037474\n",
       "2022-12-20  13.7800   0.016647  2.321593  2022-12-20   0.016647\n",
       "2022-12-21  15.5625   0.121646  2.332376  2022-12-21   0.121646\n",
       "\n",
       "[1461 rows x 5 columns]"
      ]
     },
     "execution_count": 35,
     "metadata": {},
     "output_type": "execute_result"
    }
   ],
   "source": [
    "df[\"Date\"] = pd.to_datetime(df[\"Date\"]).dt.strftime(\"%Y-%m-%d\")\n",
    "df = df.dropna()\n",
    "df"
   ]
  },
  {
   "cell_type": "code",
   "execution_count": 86,
   "metadata": {},
   "outputs": [
    {
     "data": {
      "text/plain": [
       "<AxesSubplot:xlabel='Date', ylabel='Close'>"
      ]
     },
     "execution_count": 86,
     "metadata": {},
     "output_type": "execute_result"
    },
    {
     "data": {
      "image/png": "[encoded data removed]",
      "text/plain": [
       "<Figure size 432x288 with 1 Axes>"
      ]
     },
     "metadata": {
      "needs_background": "light"
     },
     "output_type": "display_data"
    }
   ],
   "source": [
    "sns.lineplot(x=df[\"Date\"],y=df[\"Close\"],data = df)"
   ]
  },
  {
   "cell_type": "code",
   "execution_count": 37,
   "metadata": {},
   "outputs": [
    {
     "data": {
      "text/plain": [
       "array([[<AxesSubplot:title={'center':'Close'}>,\n",
       "        <AxesSubplot:title={'center':'Log Price'}>],\n",
       "       [<AxesSubplot:title={'center':'vols'}>,\n",
       "        <AxesSubplot:title={'center':'Log_Price'}>]], dtype=object)"
      ]
     },
     "execution_count": 37,
     "metadata": {},
     "output_type": "execute_result"
    },
    {
     "data": {
      "image/png": "[encoded data removed]",
      "text/plain": [
       "<Figure size 432x288 with 4 Axes>"
      ]
     },
     "metadata": {
      "needs_background": "light"
     },
     "output_type": "display_data"
    }
   ],
   "source": [
    "df.hist(bins=100)"
   ]
  },
  {
   "cell_type": "markdown",
   "metadata": {},
   "source": [
    "H0 : Data fits normal Distribution\n",
    "\n",
    "\n",
    "H1 : Data does not fits normal Distribution"
   ]
  },
  {
   "cell_type": "code",
   "execution_count": 38,
   "metadata": {},
   "outputs": [
    {
     "data": {
      "text/html": [
       "<div>\n",
       "<style scoped>\n",
       "    .dataframe tbody tr th:only-of-type {\n",
       "        vertical-align: middle;\n",
       "    }\n",
       "\n",
       "    .dataframe tbody tr th {\n",
       "        vertical-align: top;\n",
       "    }\n",
       "\n",
       "    .dataframe thead th {\n",
       "        text-align: right;\n",
       "    }\n",
       "</style>\n",
       "<table border=\"1\" class=\"dataframe\">\n",
       "  <thead>\n",
       "    <tr style=\"text-align: right;\">\n",
       "      <th></th>\n",
       "      <th>Close</th>\n",
       "      <th>Log Price</th>\n",
       "      <th>vols</th>\n",
       "      <th>Date</th>\n",
       "      <th>Log_Price</th>\n",
       "    </tr>\n",
       "    <tr>\n",
       "      <th>Date</th>\n",
       "      <th></th>\n",
       "      <th></th>\n",
       "      <th></th>\n",
       "      <th></th>\n",
       "      <th></th>\n",
       "    </tr>\n",
       "  </thead>\n",
       "  <tbody>\n",
       "    <tr>\n",
       "      <th>2009-10-08</th>\n",
       "      <td>29.9000</td>\n",
       "      <td>-0.020851</td>\n",
       "      <td>5.940123</td>\n",
       "      <td>2009-10-08</td>\n",
       "      <td>-0.020851</td>\n",
       "    </tr>\n",
       "    <tr>\n",
       "      <th>2009-10-09</th>\n",
       "      <td>30.2400</td>\n",
       "      <td>0.011307</td>\n",
       "      <td>5.540657</td>\n",
       "      <td>2009-10-09</td>\n",
       "      <td>0.011307</td>\n",
       "    </tr>\n",
       "    <tr>\n",
       "      <th>2009-10-12</th>\n",
       "      <td>28.1000</td>\n",
       "      <td>-0.073396</td>\n",
       "      <td>5.427127</td>\n",
       "      <td>2009-10-12</td>\n",
       "      <td>-0.073396</td>\n",
       "    </tr>\n",
       "    <tr>\n",
       "      <th>2009-10-14</th>\n",
       "      <td>26.3700</td>\n",
       "      <td>-0.063543</td>\n",
       "      <td>5.381247</td>\n",
       "      <td>2009-10-14</td>\n",
       "      <td>-0.063543</td>\n",
       "    </tr>\n",
       "    <tr>\n",
       "      <th>2009-10-15</th>\n",
       "      <td>26.6400</td>\n",
       "      <td>0.010187</td>\n",
       "      <td>5.385970</td>\n",
       "      <td>2009-10-15</td>\n",
       "      <td>0.010187</td>\n",
       "    </tr>\n",
       "    <tr>\n",
       "      <th>...</th>\n",
       "      <td>...</td>\n",
       "      <td>...</td>\n",
       "      <td>...</td>\n",
       "      <td>...</td>\n",
       "      <td>...</td>\n",
       "    </tr>\n",
       "    <tr>\n",
       "      <th>2022-12-15</th>\n",
       "      <td>13.7325</td>\n",
       "      <td>0.063701</td>\n",
       "      <td>2.156429</td>\n",
       "      <td>2022-12-15</td>\n",
       "      <td>0.063701</td>\n",
       "    </tr>\n",
       "    <tr>\n",
       "      <th>2022-12-16</th>\n",
       "      <td>14.0700</td>\n",
       "      <td>0.024280</td>\n",
       "      <td>2.206076</td>\n",
       "      <td>2022-12-16</td>\n",
       "      <td>0.024280</td>\n",
       "    </tr>\n",
       "    <tr>\n",
       "      <th>2022-12-19</th>\n",
       "      <td>13.5525</td>\n",
       "      <td>-0.037474</td>\n",
       "      <td>2.269627</td>\n",
       "      <td>2022-12-19</td>\n",
       "      <td>-0.037474</td>\n",
       "    </tr>\n",
       "    <tr>\n",
       "      <th>2022-12-20</th>\n",
       "      <td>13.7800</td>\n",
       "      <td>0.016647</td>\n",
       "      <td>2.321593</td>\n",
       "      <td>2022-12-20</td>\n",
       "      <td>0.016647</td>\n",
       "    </tr>\n",
       "    <tr>\n",
       "      <th>2022-12-21</th>\n",
       "      <td>15.5625</td>\n",
       "      <td>0.121646</td>\n",
       "      <td>2.332376</td>\n",
       "      <td>2022-12-21</td>\n",
       "      <td>0.121646</td>\n",
       "    </tr>\n",
       "  </tbody>\n",
       "</table>\n",
       "<p>1461 rows × 5 columns</p>\n",
       "</div>"
      ],
      "text/plain": [
       "              Close  Log Price      vols        Date  Log_Price\n",
       "Date                                                           \n",
       "2009-10-08  29.9000  -0.020851  5.940123  2009-10-08  -0.020851\n",
       "2009-10-09  30.2400   0.011307  5.540657  2009-10-09   0.011307\n",
       "2009-10-12  28.1000  -0.073396  5.427127  2009-10-12  -0.073396\n",
       "2009-10-14  26.3700  -0.063543  5.381247  2009-10-14  -0.063543\n",
       "2009-10-15  26.6400   0.010187  5.385970  2009-10-15   0.010187\n",
       "...             ...        ...       ...         ...        ...\n",
       "2022-12-15  13.7325   0.063701  2.156429  2022-12-15   0.063701\n",
       "2022-12-16  14.0700   0.024280  2.206076  2022-12-16   0.024280\n",
       "2022-12-19  13.5525  -0.037474  2.269627  2022-12-19  -0.037474\n",
       "2022-12-20  13.7800   0.016647  2.321593  2022-12-20   0.016647\n",
       "2022-12-21  15.5625   0.121646  2.332376  2022-12-21   0.121646\n",
       "\n",
       "[1461 rows x 5 columns]"
      ]
     },
     "execution_count": 38,
     "metadata": {},
     "output_type": "execute_result"
    }
   ],
   "source": [
    "df"
   ]
  },
  {
   "cell_type": "markdown",
   "metadata": {},
   "source": [
    "**Conduction a normality test**"
   ]
  },
  {
   "cell_type": "code",
   "execution_count": 44,
   "metadata": {},
   "outputs": [],
   "source": [
    "alpha = 0.05"
   ]
  },
  {
   "cell_type": "code",
   "execution_count": 47,
   "metadata": {},
   "outputs": [
    {
     "name": "stdout",
     "output_type": "stream",
     "text": [
      "223.84225108830688\n",
      "2.4732770509082604e-49\n",
      "We reject H0\n"
     ]
    }
   ],
   "source": [
    "test_statistic,p_value = stats.normaltest((np.array(df.Close)))\n",
    "print(test_statistic)\n",
    "print(p_value)\n",
    "if p_value>alpha:\n",
    "    print(\"We do not reject H0\")\n",
    "else:\n",
    "    print(\"We reject H0\")"
   ]
  },
  {
   "cell_type": "markdown",
   "metadata": {},
   "source": [
    "**As P_value is less than alpha we reject H0 which means that data is not normally distributed.**"
   ]
  },
  {
   "cell_type": "markdown",
   "metadata": {},
   "source": [
    "**Testing Skewness and Kurtosis**\n"
   ]
  },
  {
   "cell_type": "markdown",
   "metadata": {},
   "source": [
    "**As one added testing step, we can test the skewness and kurtosis of our distribution using the Jarque-Bera test. The test statistic will always be greater than zero. The further the test statistic is from zero, the more likely the sample data does not match a normal distribution.**\n",
    "\n",
    "**Lucky for us, Python has another library for us to use here which really simplifies the analysis. From the `scipy.stats` library, we can use the `jarque_bera` method directly to our data to get test statistic** \n"
   ]
  },
  {
   "cell_type": "code",
   "execution_count": 59,
   "metadata": {},
   "outputs": [
    {
     "data": {
      "text/plain": [
       "Jarque_beraResult(statistic=359.8734272357548, pvalue=0.0)"
      ]
     },
     "execution_count": 59,
     "metadata": {},
     "output_type": "execute_result"
    }
   ],
   "source": [
    "stats.jarque_bera((np.array(df.Close))) # check for normality and pvalue is less than significance level(0.05) data is not normally distributed"
   ]
  },
  {
   "cell_type": "code",
   "execution_count": 60,
   "metadata": {},
   "outputs": [],
   "source": [
    "from scipy.stats import kurtosis\n",
    "from scipy.stats import skew"
   ]
  },
  {
   "cell_type": "code",
   "execution_count": 61,
   "metadata": {},
   "outputs": [
    {
     "data": {
      "text/plain": [
       "4.323172175217153"
      ]
     },
     "execution_count": 61,
     "metadata": {},
     "output_type": "execute_result"
    }
   ],
   "source": [
    "kurtosis(np.array(df.Close))+3"
   ]
  },
  {
   "cell_type": "code",
   "execution_count": 62,
   "metadata": {},
   "outputs": [
    {
     "data": {
      "text/plain": [
       "1.0199134608979255"
      ]
     },
     "execution_count": 62,
     "metadata": {},
     "output_type": "execute_result"
    }
   ],
   "source": [
    "skew(np.array(df.Close)) # if skew is greater than 0 data is not normal and skewed"
   ]
  },
  {
   "cell_type": "markdown",
   "metadata": {},
   "source": [
    "### 2.3 Where Does Our Gaussian Distribution Break Down?\n",
    "So according to the normality test, our data is not normally distributed despite the histogram looking like it may be. So, why is the data failing the normality test? The answer likely comes down to fat tails. Fat tails essentially means that extreme events +/-3 standard deviations away from the mean) are more likely than the normal distribution would imply.\n",
    "\n",
    "Assuming a normal distribution with a mean of 0.00028 and standard deviation of 0.012, we can determine the probability of any return given that the returns fit a normal distribution.\n",
    "\n",
    "To determine how many standard deviations away from the mean a specific number is, we need to use \n",
    "\n",
    "$\\tfrac{X - \\bar{X}}{\\textrm{Sample standard deviation}}$\n",
    "\n",
    " Let's do this for the min and max of the sample data:"
   ]
  },
  {
   "cell_type": "code",
   "execution_count": 67,
   "metadata": {},
   "outputs": [
    {
     "name": "stdout",
     "output_type": "stream",
     "text": [
      "Max Value is 0.4969762018552344 and Min Value is -0.5154016224042972\n"
     ]
    }
   ],
   "source": [
    "dfMax = df.Log_Price.max()\n",
    "dfMin = df.Log_Price.min()\n",
    "print(f\"Max Value is {dfMax} and Min Value is {dfMin}\")"
   ]
  },
  {
   "cell_type": "code",
   "execution_count": 68,
   "metadata": {},
   "outputs": [
    {
     "data": {
      "text/plain": [
       "-8.136716113448985"
      ]
     },
     "execution_count": 68,
     "metadata": {},
     "output_type": "execute_result"
    }
   ],
   "source": [
    "(df.Log_Price.min() - df.Log_Price.mean()) / df.Log_Price.std()"
   ]
  },
  {
   "cell_type": "code",
   "execution_count": 69,
   "metadata": {},
   "outputs": [
    {
     "data": {
      "text/plain": [
       "7.860146731774398"
      ]
     },
     "execution_count": 69,
     "metadata": {},
     "output_type": "execute_result"
    }
   ],
   "source": [
    "(df.Log_Price.max() - df.Log_Price.mean()) / df.Log_Price.std()"
   ]
  },
  {
   "cell_type": "code",
   "execution_count": 70,
   "metadata": {},
   "outputs": [
    {
     "data": {
      "text/plain": [
       "2.1464521713883206e-16"
      ]
     },
     "execution_count": 70,
     "metadata": {},
     "output_type": "execute_result"
    }
   ],
   "source": [
    "#The probability of -8 std occuring is\n",
    "\n",
    "stats.norm.cdf(-8.13)"
   ]
  },
  {
   "cell_type": "markdown",
   "metadata": {},
   "source": [
    "#**t-distribution**"
   ]
  },
  {
   "cell_type": "code",
   "execution_count": 83,
   "metadata": {},
   "outputs": [],
   "source": [
    "#len(df)"
   ]
  },
  {
   "cell_type": "markdown",
   "metadata": {},
   "source": [
    "**There are 1461 data points we have 1460(n-1) degree of freedom.**"
   ]
  },
  {
   "cell_type": "code",
   "execution_count": 85,
   "metadata": {},
   "outputs": [],
   "source": [
    "#t_stat,p = stats.ttest_ind(df[\"Close\"],stats.t.rvs(df=1460,size=1460))\n",
    "#print(f\"t={t_stat}, p={p}\")"
   ]
  },
  {
   "cell_type": "code",
   "execution_count": null,
   "metadata": {},
   "outputs": [],
   "source": []
  },
  {
   "cell_type": "code",
   "execution_count": null,
   "metadata": {},
   "outputs": [],
   "source": []
  }
 ],
 "metadata": {
  "kernelspec": {
   "display_name": "Python 3",
   "language": "python",
   "name": "python3"
  },
  "language_info": {
   "codemirror_mode": {
    "name": "ipython",
    "version": 3
   },
   "file_extension": ".py",
   "mimetype": "text/x-python",
   "name": "python",
   "nbconvert_exporter": "python",
   "pygments_lexer": "ipython3",
   "version": "3.8.5"
  }
 },
 "nbformat": 4,
 "nbformat_minor": 4
}

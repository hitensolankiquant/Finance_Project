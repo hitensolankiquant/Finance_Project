{
 "cells": [
  {
   "cell_type": "code",
   "execution_count": 1,
   "metadata": {},
   "outputs": [],
   "source": [
    "import numpy as np\n",
    "import scipy.stats as ss\n"
   ]
  },
  {
   "cell_type": "markdown",
   "metadata": {},
   "source": [
    "# **Black Scholes Model**"
   ]
  },
  {
   "cell_type": "markdown",
   "metadata": {},
   "source": [
    "**Using the Black-Scholes-Merton SDE, we can get closed-form solutions for call and put option prices.**\n",
    "\n",
    "**The formulas are the following:**\n",
    "\n",
    "Call option = $c =  S_0 \\mathcal{N}(d_1) - K e^{-rT}\\mathcal{N}(d_2) $\n",
    "\n",
    "put option = $p =  K e^{-rT}\\mathcal{N}(-d_2) - S_0 \\mathcal{N}(-d_1) $\n",
    "\n",
    "\n",
    "\n",
    "$$d_1 =\\frac{Ln(S_0/K)+(r + \\sigma^{2}/2)*T}{\\sigma\\sqrt{T}}$$\n",
    "\n",
    "\n",
    "\n",
    "\n",
    "\n",
    "$$d_2 =\\frac{Ln(S_0/K)+(r - \\sigma^{2}/2)*T}{\\sigma\\sqrt{T}}$$\n",
    "\n",
    "\n",
    "\n"
   ]
  },
  {
   "cell_type": "markdown",
   "metadata": {},
   "source": [
    "**Assumptions in BSM model:**\n",
    "    \n",
    "1) Riskless rate : The return on the asset has to be riskfree.\n",
    "\n",
    "2) Constant Volatility : Volatility measures the variance of stock over time. It is assumed for the price model, the variation for the price of the option is constant for the time period.However it is not possible in real world.\n",
    "\n",
    "3) No dividends : The underlying stock should not pay dividends over the life span of the option which is again not possible in real world. This anomaly can be adjusted by subtracting the discounted value of a future dividend from the current stock price. \n",
    "\n",
    "4) No Transaction charges\n",
    "\n",
    "5) Log-normal distribution of returns : Returns of the should be log normally distributed.\n",
    "\n",
    "6) European-style option has to be considered only.\n"
   ]
  },
  {
   "cell_type": "markdown",
   "metadata": {},
   "source": [
    "**Parameters of BSM model:**\n",
    "1) Time to maturity\n",
    "\n",
    "2) Underlying price\n",
    "\n",
    "3) Strike price\n",
    "\n",
    "4) Risk free interest rate\n",
    "\n",
    "5) volatility\n",
    "\n",
    "6) option type either \"Call\" or \"Put\"\n"
   ]
  },
  {
   "cell_type": "code",
   "execution_count": 20,
   "metadata": {},
   "outputs": [],
   "source": [
    "#Data for input in Black-Scholes formula:\n",
    "\n",
    "T = 0.167    # supposed in years. It is not the maturity, but the time to maturity  \n",
    "S = 32.5     #spot price\n",
    "K = 35.0     # strike price\n",
    "r = 0.01     # risk free intrest rate\n",
    "vol = 0.45  # annual volatility \n",
    "option_type = \"Call\" # for call option change it to \"Call\" and for put option change to \"Put\".\n",
    "\n"
   ]
  },
  {
   "cell_type": "code",
   "execution_count": 21,
   "metadata": {},
   "outputs": [],
   "source": [
    "#Computing d1 and d2\n",
    "\n",
    "d1 = (np.log(S/K)+ (r + 0.5*vol**2)*T)/(vol*np.sqrt(T))\n",
    "d2 = d1 - vol* np.sqrt(T)\n",
    "if option_type in [\"Call\",\"Put\"]:\n",
    "    if option_type in [\"Call\"]:\n",
    "        Opt_Price = round(S * ss.norm.cdf(d1) - K * np.exp(-r * T) * ss.norm.cdf(d2),2)\n",
    "        Delta = round(ss.norm.cdf(d1),2)\n",
    "        Gamma = round(ss.norm.pdf(d1)/(S*vol*np.sqrt(T)),2)\n",
    "        Vega = round(S * ss.norm.pdf(d1) * np.sqrt(T),2)\n",
    "        Theta =round(-(S * ss.norm.pdf(d1) * vol) / (2 * np.sqrt(T)) - r * K * np.exp(\n",
    "            -r *T)*ss.norm.cdf(d2),2)\n",
    "        Rho = round(K * T * np.exp(-r * T) * ss.norm.cdf(d2),2)\n",
    "    else:\n",
    "        Opt_Price = round(K * np.exp(-r * T) * ss.norm.cdf(-d2) - S * ss.norm.cdf(-d1),2)\n",
    "        Delta = round(-ss.norm.cdf(-d1),2)\n",
    "        Gamma = round(ss.norm.pdf(d1) / (S * vol * np.sqrt(T)),2)\n",
    "        Vega =round(S * ss.norm.pdf(d1) * np.sqrt(T),2)\n",
    "        Theta = round(-(S * ss.norm.pdf(d1) * vol) / (2 * np.sqrt(T)) + r * K * np.exp(\n",
    "            -r * T\n",
    "        ) * ss.norm.cdf(-d2),2)\n",
    "        Rho = round(-K * T * np.exp(-r * T) * ss.norm.cdf(-d2),2)\n",
    "else:\n",
    "    Opt_Price = \"Error: option type incorrect. Choose Put or Call option_type.\"\n",
    "\n",
    "  "
   ]
  },
  {
   "cell_type": "code",
   "execution_count": 22,
   "metadata": {},
   "outputs": [
    {
     "name": "stdout",
     "output_type": "stream",
     "text": [
      "Option price for Call is 1.44\n",
      "Delta for Call is 0.38\n",
      "Gamma for Call is 0.06\n",
      "Vega for Call is 5.06\n",
      "Theta for Call is -6.93\n",
      "Rho for Call is 1.83\n"
     ]
    }
   ],
   "source": [
    "print(f\"Option price for {option_type} is {Opt_Price}\")\n",
    "print(f\"Delta for {option_type} is {Delta}\")\n",
    "print(f\"Gamma for {option_type} is {Gamma}\")\n",
    "print(f\"Vega for {option_type} is {Vega}\")\n",
    "print(f\"Theta for {option_type} is {Theta}\")\n",
    "print(f\"Rho for {option_type} is {Rho}\")"
   ]
  },
  {
   "cell_type": "code",
   "execution_count": null,
   "metadata": {},
   "outputs": [],
   "source": []
  }
 ],
 "metadata": {
  "kernelspec": {
   "display_name": "Python 3",
   "language": "python",
   "name": "python3"
  },
  "language_info": {
   "codemirror_mode": {
    "name": "ipython",
    "version": 3
   },
   "file_extension": ".py",
   "mimetype": "text/x-python",
   "name": "python",
   "nbconvert_exporter": "python",
   "pygments_lexer": "ipython3",
   "version": "3.8.5"
  }
 },
 "nbformat": 4,
 "nbformat_minor": 4
}

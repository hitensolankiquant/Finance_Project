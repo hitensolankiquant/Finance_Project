{
 "cells": [
  {
   "cell_type": "markdown",
   "metadata": {},
   "source": [
    "# **Value at Risk(VaR)**"
   ]
  },
  {
   "cell_type": "markdown",
   "metadata": {},
   "source": [
    "VaR measures the amount of potential loss that could happen in an investment over a given period of time(with a given degree of confidence)."
   ]
  },
  {
   "cell_type": "markdown",
   "metadata": {},
   "source": [
    "As we know that stock prices follows a geometric brownian motion\n",
    "\n",
    "$dS = S_0 \\left(\\mu dt + \\sigma dW_t \\right)$\n",
    "\n",
    "Where W is a weiner process with mean 0 and variance t\n",
    "\n",
    "$\\mu$ is mean (drift) \n",
    "\n",
    "$\\sigma$ is volatility\n",
    "\n",
    "$S_0$ is  initial stock price\n",
    "\n",
    "\n",
    "\n",
    "\n"
   ]
  },
  {
   "cell_type": "markdown",
   "metadata": {},
   "source": [
    "$dS = S_0 \\left(\\mu dt + \\sigma dW_t \\right)$\n",
    "\n",
    "Solution of this stochastic differential equation is \n",
    "\n",
    "\n",
    "$$\n",
    "\\begin{equation*} \n",
    "    S_t = S_{0} e^{\\left( \\mu - \\frac{\\sigma^2 }{2} \\right) dt + \\sigma \\sqrt{t} N(0,1)}\n",
    "\\end{equation*} \n",
    "$$\n"
   ]
  },
  {
   "cell_type": "markdown",
   "metadata": {},
   "source": [
    "In Monte-Carlo Simulation we generate a large amount of stock price estimates with this equation.\n",
    "\n",
    "Then we sort the stock prices form smallest to largest and if we need the **VaR** with 99% confidence level: we need the 1%\n",
    "lowest percentile $S'(t)$ in this series because there is 1% chance that S(t) could fall to $S'(t)$ or less\n",
    "\n",
    "\n",
    "$VaR($99$) = S(t) - S'(t)$\n",
    "\n"
   ]
  },
  {
   "cell_type": "code",
   "execution_count": 1,
   "metadata": {},
   "outputs": [],
   "source": [
    "import numpy as np\n",
    "import yfinance as yf\n",
    "import datetime\n",
    "import pandas as pd"
   ]
  },
  {
   "cell_type": "code",
   "execution_count": 2,
   "metadata": {},
   "outputs": [],
   "source": [
    "def download_stock(stock,start,end):\n",
    "    data={}\n",
    "    ticker = yf.download(stock,start,end)\n",
    "    data[\"Adj Close\"] = ticker[\"Adj Close\"]\n",
    "    return pd.DataFrame(data)"
   ]
  },
  {
   "cell_type": "code",
   "execution_count": 3,
   "metadata": {},
   "outputs": [],
   "source": [
    "# S is initial investment\n",
    "class VaRMonteCarlo:\n",
    "    \n",
    "    def __init__(self,S,mu,sigma,c,n,iterations):\n",
    "        self.S = S\n",
    "        self.mu = mu\n",
    "        self.sigma = sigma\n",
    "        self.c = c\n",
    "        self.n = n\n",
    "        self.iterations = iterations\n",
    "        \n",
    "    def simulation(self):\n",
    "        # generating weiner process\n",
    "        rand = np.random.normal(0,1,[1,self.iterations])\n",
    "        # equation for the S(t) of the stock price\n",
    "        stock_price = self.S * np.exp(self.n*(self.mu - 0.5 * self.sigma **2)+ self.sigma * np.sqrt(self.n)*rand)\n",
    "        # we have to sort the stock price to determine the percentile\n",
    "        stock_price = np.sort(stock_price)\n",
    "        # it depends on the confidence level : 95% -> 5 and 99% -> 1\n",
    "        percentile = np.percentile(stock_price,(1-self.c)*100)\n",
    "        return self.S -percentile\n",
    "        \n",
    "        \n",
    "        \n",
    "        "
   ]
  },
  {
   "cell_type": "code",
   "execution_count": 4,
   "metadata": {},
   "outputs": [],
   "source": [
    "S = 100000 # Investment Amount\n",
    "c = 0.95   # Confidence Level\n",
    "n = 1 #day \n",
    "iterations = 10000 # no of paths in monte-carlo simulation"
   ]
  },
  {
   "cell_type": "code",
   "execution_count": 5,
   "metadata": {},
   "outputs": [
    {
     "name": "stdout",
     "output_type": "stream",
     "text": [
      "[*********************100%***********************]  1 of 1 completed\n"
     ]
    }
   ],
   "source": [
    "start_date = datetime.datetime(2020,1,1)\n",
    "end_date = datetime.datetime(2022,1,1)\n",
    "Reliance = download_stock(\"Reliance.NS\",start_date,end_date)\n",
    "Reliance[\"Returns\"] = Reliance[\"Adj Close\"].pct_change()"
   ]
  },
  {
   "cell_type": "code",
   "execution_count": 6,
   "metadata": {},
   "outputs": [
    {
     "data": {
      "text/html": [
       "<div>\n",
       "<style scoped>\n",
       "    .dataframe tbody tr th:only-of-type {\n",
       "        vertical-align: middle;\n",
       "    }\n",
       "\n",
       "    .dataframe tbody tr th {\n",
       "        vertical-align: top;\n",
       "    }\n",
       "\n",
       "    .dataframe thead th {\n",
       "        text-align: right;\n",
       "    }\n",
       "</style>\n",
       "<table border=\"1\" class=\"dataframe\">\n",
       "  <thead>\n",
       "    <tr style=\"text-align: right;\">\n",
       "      <th></th>\n",
       "      <th>Adj Close</th>\n",
       "      <th>Returns</th>\n",
       "    </tr>\n",
       "    <tr>\n",
       "      <th>Date</th>\n",
       "      <th></th>\n",
       "      <th></th>\n",
       "    </tr>\n",
       "  </thead>\n",
       "  <tbody>\n",
       "    <tr>\n",
       "      <th>2020-01-01</th>\n",
       "      <td>1480.595825</td>\n",
       "      <td>NaN</td>\n",
       "    </tr>\n",
       "    <tr>\n",
       "      <th>2020-01-02</th>\n",
       "      <td>1505.802124</td>\n",
       "      <td>0.017024</td>\n",
       "    </tr>\n",
       "    <tr>\n",
       "      <th>2020-01-03</th>\n",
       "      <td>1507.616577</td>\n",
       "      <td>0.001205</td>\n",
       "    </tr>\n",
       "    <tr>\n",
       "      <th>2020-01-06</th>\n",
       "      <td>1472.651367</td>\n",
       "      <td>-0.023192</td>\n",
       "    </tr>\n",
       "    <tr>\n",
       "      <th>2020-01-07</th>\n",
       "      <td>1495.307617</td>\n",
       "      <td>0.015385</td>\n",
       "    </tr>\n",
       "    <tr>\n",
       "      <th>...</th>\n",
       "      <td>...</td>\n",
       "      <td>...</td>\n",
       "    </tr>\n",
       "    <tr>\n",
       "      <th>2021-12-27</th>\n",
       "      <td>2363.135254</td>\n",
       "      <td>-0.001075</td>\n",
       "    </tr>\n",
       "    <tr>\n",
       "      <th>2021-12-28</th>\n",
       "      <td>2391.200684</td>\n",
       "      <td>0.011876</td>\n",
       "    </tr>\n",
       "    <tr>\n",
       "      <th>2021-12-29</th>\n",
       "      <td>2395.288330</td>\n",
       "      <td>0.001709</td>\n",
       "    </tr>\n",
       "    <tr>\n",
       "      <th>2021-12-30</th>\n",
       "      <td>2352.018799</td>\n",
       "      <td>-0.018064</td>\n",
       "    </tr>\n",
       "    <tr>\n",
       "      <th>2021-12-31</th>\n",
       "      <td>2361.041504</td>\n",
       "      <td>0.003836</td>\n",
       "    </tr>\n",
       "  </tbody>\n",
       "</table>\n",
       "<p>499 rows × 2 columns</p>\n",
       "</div>"
      ],
      "text/plain": [
       "              Adj Close   Returns\n",
       "Date                             \n",
       "2020-01-01  1480.595825       NaN\n",
       "2020-01-02  1505.802124  0.017024\n",
       "2020-01-03  1507.616577  0.001205\n",
       "2020-01-06  1472.651367 -0.023192\n",
       "2020-01-07  1495.307617  0.015385\n",
       "...                 ...       ...\n",
       "2021-12-27  2363.135254 -0.001075\n",
       "2021-12-28  2391.200684  0.011876\n",
       "2021-12-29  2395.288330  0.001709\n",
       "2021-12-30  2352.018799 -0.018064\n",
       "2021-12-31  2361.041504  0.003836\n",
       "\n",
       "[499 rows x 2 columns]"
      ]
     },
     "execution_count": 6,
     "metadata": {},
     "output_type": "execute_result"
    }
   ],
   "source": [
    "Reliance"
   ]
  },
  {
   "cell_type": "code",
   "execution_count": 7,
   "metadata": {},
   "outputs": [],
   "source": [
    "mu = np.mean(Reliance[\"Returns\"])\n",
    "sigma = np.std(Reliance[\"Returns\"])"
   ]
  },
  {
   "cell_type": "code",
   "execution_count": 8,
   "metadata": {},
   "outputs": [
    {
     "data": {
      "text/plain": [
       "(0.0012211383996952787, 0.02386203590328131)"
      ]
     },
     "execution_count": 8,
     "metadata": {},
     "output_type": "execute_result"
    }
   ],
   "source": [
    "mu,sigma"
   ]
  },
  {
   "cell_type": "code",
   "execution_count": 9,
   "metadata": {},
   "outputs": [
    {
     "data": {
      "text/plain": [
       "3711.7418172263715"
      ]
     },
     "execution_count": 9,
     "metadata": {},
     "output_type": "execute_result"
    }
   ],
   "source": [
    "Var_model = VaRMonteCarlo(S,mu,sigma,c,n,iterations)\n",
    "simulation = Var_model.simulation()\n",
    "simulation"
   ]
  },
  {
   "cell_type": "code",
   "execution_count": 12,
   "metadata": {},
   "outputs": [
    {
     "name": "stdout",
     "output_type": "stream",
     "text": [
      "Value at Risk with Monte Carlo Simulation 3711.7418172263715 on investment of Rs.100000 for next 1 day.\n"
     ]
    }
   ],
   "source": [
    "print(f\"Value at Risk with Monte Carlo Simulation is Rs.{simulation} on investment of Rs.{S} for next {1} day.\")"
   ]
  },
  {
   "cell_type": "code",
   "execution_count": null,
   "metadata": {},
   "outputs": [],
   "source": []
  },
  {
   "cell_type": "code",
   "execution_count": null,
   "metadata": {},
   "outputs": [],
   "source": []
  },
  {
   "cell_type": "code",
   "execution_count": null,
   "metadata": {},
   "outputs": [],
   "source": []
  },
  {
   "cell_type": "code",
   "execution_count": null,
   "metadata": {},
   "outputs": [],
   "source": []
  }
 ],
 "metadata": {
  "kernelspec": {
   "display_name": "Python 3",
   "language": "python",
   "name": "python3"
  },
  "language_info": {
   "codemirror_mode": {
    "name": "ipython",
    "version": 3
   },
   "file_extension": ".py",
   "mimetype": "text/x-python",
   "name": "python",
   "nbconvert_exporter": "python",
   "pygments_lexer": "ipython3",
   "version": "3.8.5"
  }
 },
 "nbformat": 4,
 "nbformat_minor": 4
}
